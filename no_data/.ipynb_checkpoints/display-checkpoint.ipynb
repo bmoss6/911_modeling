{
 "cells": [
  {
   "cell_type": "code",
   "execution_count": 2,
   "metadata": {},
   "outputs": [],
   "source": [
    "%matplotlib inline\n",
    "import json\n",
    "import pandas as pd\n",
    "import matplotlib.pyplot as plt"
   ]
  },
  {
   "cell_type": "code",
   "execution_count": 12,
   "metadata": {},
   "outputs": [
    {
     "name": "stderr",
     "output_type": "stream",
     "text": [
      "/home/bmoss6/.local/share/virtualenvs/sf_data-9SblB5Ni/lib/python3.6/site-packages/IPython/core/interactiveshell.py:3051: DtypeWarning: Columns (21,22,32) have mixed types. Specify dtype option on import or set low_memory=False.\n",
      "  interactivity=interactivity, compiler=compiler, result=result)\n"
     ]
    }
   ],
   "source": [
    "f = open(\"histograms.json\",\"r\")\n",
    "a = json.load(f)\n",
    "df = pd.read_csv(\"service_times_new2_sf_data.csv\")"
   ]
  },
  {
   "cell_type": "code",
   "execution_count": 4,
   "metadata": {},
   "outputs": [
    {
     "data": {
      "text/plain": [
       "dict_keys(['Call_Entry', 'Call_Processing', 'Dispatch', 'Travel', 'Emergency_Service'])"
      ]
     },
     "execution_count": 4,
     "metadata": {},
     "output_type": "execute_result"
    }
   ],
   "source": [
    "a.keys()"
   ]
  },
  {
   "cell_type": "code",
   "execution_count": 5,
   "metadata": {},
   "outputs": [
    {
     "name": "stdout",
     "output_type": "stream",
     "text": [
      "[ 60.  60. 120. ... 120. 120. 120.]\n",
      "[ 60. 240.  60. ...  60.  60.  60.]\n",
      "[5640. 1320. 4680. ... 3060. 3060. 3000.]\n"
     ]
    },
    {
     "data": {
      "image/png": "[encoded data removed]",
      "text/plain": [
       "<Figure size 432x288 with 1 Axes>"
      ]
     },
     "metadata": {
      "needs_background": "light"
     },
     "output_type": "display_data"
    },
    {
     "data": {
      "image/png": "[encoded data removed]",
      "text/plain": [
       "<Figure size 432x288 with 1 Axes>"
      ]
     },
     "metadata": {
      "needs_background": "light"
     },
     "output_type": "display_data"
    },
    {
     "data": {
      "image/png": "[encoded data removed]",
      "text/plain": [
       "<Figure size 432x288 with 1 Axes>"
      ]
     },
     "metadata": {
      "needs_background": "light"
     },
     "output_type": "display_data"
    }
   ],
   "source": [
    "import numpy as np\n",
    "t = [\"Call_Entry\", \"Call_Processing\", \"Dispatch_Travel_Service\"]\n",
    "d = [1000, 700, 10000]\n",
    "b = [13, 20, 12]\n",
    "q = zip(t,d, b)\n",
    "import scipy.stats\n",
    "for e,r, u in q:\n",
    "    x = df[e].values\n",
    "    x = x[~np.isnan(x)]\n",
    "    print(x)\n",
    "    x = [z for z in x if z>=0 and z<r]  \n",
    "    plt.figure()\n",
    "    plt.title(e)\n",
    "    plt.ylabel(\"Frequency\")\n",
    "    plt.xlabel(\"Service Time in Seconds\")\n",
    "    n, bins, patches = plt.hist(x, u, facecolor='blue')"
   ]
  },
  {
   "cell_type": "code",
   "execution_count": 44,
   "metadata": {},
   "outputs": [
    {
     "data": {
      "text/plain": [
       "431394"
      ]
     },
     "execution_count": 44,
     "metadata": {},
     "output_type": "execute_result"
    }
   ],
   "source": [
    "times = pd.to_datetime(df['Received DtTm'])\n",
    "a = df.groupby([times.dt.year, times.dt.month, times.dt.day, times.dt.hour, times.dt.minute])\n",
    "\n",
    "    "
   ]
  },
  {
   "cell_type": "code",
   "execution_count": 53,
   "metadata": {},
   "outputs": [
    {
     "name": "stdout",
     "output_type": "stream",
     "text": [
      "1.1587041080775347\n"
     ]
    }
   ],
   "source": [
    "x = sum([len(a.get_group(group)[\"Call Number\"].unique()) for group in a.groups])/len(a.groups)\n",
    "print(x)"
   ]
  },
  {
   "cell_type": "code",
   "execution_count": 66,
   "metadata": {},
   "outputs": [
    {
     "data": {
      "text/plain": [
       "2.88289249696016"
      ]
     },
     "execution_count": 66,
     "metadata": {},
     "output_type": "execute_result"
    }
   ],
   "source": [
    "y = abs(df['Received DtTm_epoch'] - df[' DtTm_epoch'])\n",
    "y = y[~np.isnan(y)]\n",
    "lambda_= (1/(sum(y)/len(y)))\n",
    "(1/lambda_)/60"
   ]
  },
  {
   "cell_type": "code",
   "execution_count": 67,
   "metadata": {},
   "outputs": [
    {
     "data": {
      "text/plain": [
       "Index(['Unnamed: 0', 'Unnamed: 0.1', 'Call Number', 'Unit ID',\n",
       "       'Incident Number', 'Call Type', 'Call Date', 'Watch Date',\n",
       "       'Received DtTm', 'Entry DtTm', 'Dispatch DtTm', 'Response DtTm',\n",
       "       'On Scene DtTm', 'Transport DtTm', 'Hospital DtTm',\n",
       "       'Call Final Disposition', 'Available DtTm', 'Address', 'City',\n",
       "       'Zipcode of Incident', 'Battalion', 'Station Area', 'Box',\n",
       "       'Original Priority', 'Priority', 'Final Priority', 'ALS Unit',\n",
       "       'Call Type Group', 'Number of Alarms', 'Unit Type',\n",
       "       'Unit sequence in call dispatch', 'Fire Prevention District',\n",
       "       'Supervisor District', 'Neighborhooods - Analysis Boundaries',\n",
       "       'Location', 'RowID', 'Received DtTm_epoch', 'Entry DtTm_epoch',\n",
       "       'Dispatch DtTm_epoch', 'Response DtTm_epoch', 'On Scene DtTm_epoch',\n",
       "       'Transport DtTm_epoch', 'Hospital DtTm_epoch', 'Available DtTm_epoch',\n",
       "       'Call_Entry', 'Call_Processing', 'Dispatch_Travel_Service'],\n",
       "      dtype='object')"
      ]
     },
     "execution_count": 67,
     "metadata": {},
     "output_type": "execute_result"
    }
   ],
   "source": [
    "df.columns"
   ]
  },
  {
   "cell_type": "code",
   "execution_count": 70,
   "metadata": {},
   "outputs": [],
   "source": [
    "df_1 = pd.read_csv(\"service_times_new2_sf_data.csv\")"
   ]
  },
  {
   "cell_type": "code",
   "execution_count": 75,
   "metadata": {},
   "outputs": [
    {
     "data": {
      "text/html": [
       "<div>\n",
       "<style scoped>\n",
       "    .dataframe tbody tr th:only-of-type {\n",
       "        vertical-align: middle;\n",
       "    }\n",
       "\n",
       "    .dataframe tbody tr th {\n",
       "        vertical-align: top;\n",
       "    }\n",
       "\n",
       "    .dataframe thead th {\n",
       "        text-align: right;\n",
       "    }\n",
       "</style>\n",
       "<table border=\"1\" class=\"dataframe\">\n",
       "  <thead>\n",
       "    <tr style=\"text-align: right;\">\n",
       "      <th></th>\n",
       "      <th>Unnamed: 0</th>\n",
       "      <th>Unnamed: 0.1</th>\n",
       "      <th>Call Number</th>\n",
       "      <th>Unit ID</th>\n",
       "      <th>Incident Number</th>\n",
       "      <th>Call Type</th>\n",
       "      <th>Call Date</th>\n",
       "      <th>Watch Date</th>\n",
       "      <th>Received DtTm</th>\n",
       "      <th>Entry DtTm</th>\n",
       "      <th>...</th>\n",
       "      <th>Entry DtTm_epoch</th>\n",
       "      <th>Dispatch DtTm_epoch</th>\n",
       "      <th>Response DtTm_epoch</th>\n",
       "      <th>On Scene DtTm_epoch</th>\n",
       "      <th>Transport DtTm_epoch</th>\n",
       "      <th>Hospital DtTm_epoch</th>\n",
       "      <th>Available DtTm_epoch</th>\n",
       "      <th>Call_Entry</th>\n",
       "      <th>Call_Processing</th>\n",
       "      <th>Dispatch_Travel_Service</th>\n",
       "    </tr>\n",
       "  </thead>\n",
       "  <tbody>\n",
       "  </tbody>\n",
       "</table>\n",
       "<p>0 rows × 47 columns</p>\n",
       "</div>"
      ],
      "text/plain": [
       "Empty DataFrame\n",
       "Columns: [Unnamed: 0, Unnamed: 0.1, Call Number, Unit ID, Incident Number, Call Type, Call Date, Watch Date, Received DtTm, Entry DtTm, Dispatch DtTm, Response DtTm, On Scene DtTm, Transport DtTm, Hospital DtTm, Call Final Disposition, Available DtTm, Address, City, Zipcode of Incident, Battalion, Station Area, Box, Original Priority, Priority, Final Priority, ALS Unit, Call Type Group, Number of Alarms, Unit Type, Unit sequence in call dispatch, Fire Prevention District, Supervisor District, Neighborhooods - Analysis Boundaries, Location, RowID, Received DtTm_epoch, Entry DtTm_epoch, Dispatch DtTm_epoch, Response DtTm_epoch, On Scene DtTm_epoch, Transport DtTm_epoch, Hospital DtTm_epoch, Available DtTm_epoch, Call_Entry, Call_Processing, Dispatch_Travel_Service]\n",
       "Index: []\n",
       "\n",
       "[0 rows x 47 columns]"
      ]
     },
     "execution_count": 75,
     "metadata": {},
     "output_type": "execute_result"
    }
   ],
   "source": []
  },
  {
   "cell_type": "code",
   "execution_count": null,
   "metadata": {},
   "outputs": [],
   "source": []
  }
 ],
 "metadata": {
  "kernelspec": {
   "display_name": "Python 3",
   "language": "python",
   "name": "python3"
  },
  "language_info": {
   "codemirror_mode": {
    "name": "ipython",
    "version": 3
   },
   "file_extension": ".py",
   "mimetype": "text/x-python",
   "name": "python",
   "nbconvert_exporter": "python",
   "pygments_lexer": "ipython3",
   "version": "3.6.10"
  }
 },
 "nbformat": 4,
 "nbformat_minor": 2
}
