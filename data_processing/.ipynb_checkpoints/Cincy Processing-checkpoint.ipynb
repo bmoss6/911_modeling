{
 "cells": [
  {
   "cell_type": "code",
   "execution_count": 119,
   "metadata": {},
   "outputs": [],
   "source": [
    "import dask.dataframe as dd\n",
    "import pandas as pd\n",
    "import os\n",
    "import csv\n",
    "import traceback\n",
    "import logging\n",
    "import numpy as np\n",
    "import geopandas as gp\n",
    "import scipy.stats as st\n",
    "import matplotlib.pyplot as plt\n",
    "dataset_path = \"/home/blakemoss/911_modeling/data_retrieval/csvs/sf_fire_2019.csv\"\n",
    "df = dd.read_csv(dataset_path, usecols=['Call Number', 'Received DtTm'], dtype=dtype)\n",
    "df = df.dropna(subset=['Received DtTm'])\n",
    "df = df.compute()\n",
    "c = \"Received DtTm\"\n",
    "df[c] = pd.to_datetime(df[c], errors=\"coerce\", infer_datetime_format=True)\n",
    "groups = df.groupby(['Call Number'])\n",
    "rec = groups.min()"
   ]
  },
  {
   "cell_type": "code",
   "execution_count": 120,
   "metadata": {},
   "outputs": [],
   "source": [
    "dataset_path = \"/home/blakemoss/911_modeling/data_retrieval/csvs/sf_fire_2019.csv\"\n",
    "df = dd.read_csv(dataset_path, usecols=['Call Number', 'Entry DtTm'], dtype=dtype)\n",
    "df = df.dropna(subset=['Entry DtTm'])\n",
    "df = df.compute()\n",
    "c = \"Entry DtTm\"\n",
    "df[c] = pd.to_datetime(df[c], errors=\"coerce\", infer_datetime_format=True)\n",
    "groups = df.groupby(['Call Number'])\n",
    "entry = groups.min()"
   ]
  },
  {
   "cell_type": "code",
   "execution_count": 122,
   "metadata": {},
   "outputs": [],
   "source": [
    "dataset_path = \"/home/blakemoss/911_modeling/data_retrieval/csvs/sf_fire_2019.csv\"\n",
    "df = dd.read_csv(dataset_path, usecols=['Call Number', 'Dispatch DtTm'], dtype=dtype)\n",
    "df = df.dropna(subset=['Dispatch DtTm'])\n",
    "df = df.compute()\n",
    "c = \"Dispatch DtTm\"\n",
    "df[c] = pd.to_datetime(df[c], errors=\"coerce\", infer_datetime_format=True)\n",
    "groups = df.groupby(['Call Number'])\n",
    "dispatch = groups.min()"
   ]
  },
  {
   "cell_type": "code",
   "execution_count": 123,
   "metadata": {},
   "outputs": [],
   "source": [
    "dataset_path = \"/home/blakemoss/911_modeling/data_retrieval/csvs/sf_fire_2019.csv\"\n",
    "df = dd.read_csv(dataset_path, usecols=['Call Number', 'Response DtTm'], dtype=dtype)\n",
    "df = df.dropna(subset=['Response DtTm'])\n",
    "df = df.compute()\n",
    "c = \"Response DtTm\"\n",
    "df[c] = pd.to_datetime(df[c], errors=\"coerce\", infer_datetime_format=True)\n",
    "groups = df.groupby(['Call Number'])\n",
    "response = groups.min()"
   ]
  },
  {
   "cell_type": "code",
   "execution_count": 124,
   "metadata": {},
   "outputs": [],
   "source": [
    "dataset_path = \"/home/blakemoss/911_modeling/data_retrieval/csvs/sf_fire_2019.csv\"\n",
    "df = dd.read_csv(dataset_path, usecols=['Call Number', 'On Scene DtTm'], dtype=dtype)\n",
    "df = df.dropna(subset=['On Scene DtTm'])\n",
    "df = df.compute()\n",
    "c = \"On Scene DtTm\"\n",
    "df[c] = pd.to_datetime(df[c], errors=\"coerce\", infer_datetime_format=True)\n",
    "groups = df.groupby(['Call Number'])\n",
    "on_scene = groups.min()"
   ]
  },
  {
   "cell_type": "code",
   "execution_count": 127,
   "metadata": {},
   "outputs": [],
   "source": [
    "dataset_path = \"/home/blakemoss/911_modeling/data_retrieval/csvs/sf_fire_2019.csv\"\n",
    "df = dd.read_csv(dataset_path, usecols=['Call Number', 'Transport DtTm'], dtype=dtype)\n",
    "df = df.dropna(subset=['Transport DtTm'])\n",
    "df = df.compute()\n",
    "c = \"Transport DtTm\"\n",
    "df[c] = pd.to_datetime(df[c], errors=\"coerce\", infer_datetime_format=True)\n",
    "groups = df.groupby(['Call Number'])\n",
    "transport = groups.min()"
   ]
  },
  {
   "cell_type": "code",
   "execution_count": 130,
   "metadata": {},
   "outputs": [],
   "source": [
    "dataset_path = \"/home/blakemoss/911_modeling/data_retrieval/csvs/sf_fire_2019.csv\"\n",
    "df = dd.read_csv(dataset_path, usecols=['Call Number', 'Hospital DtTm'], dtype=dtype)\n",
    "df = df.dropna(subset=['Hospital DtTm'])\n",
    "df = df.compute()\n",
    "c = \"Hospital DtTm\"\n",
    "df[c] = pd.to_datetime(df[c], errors=\"coerce\", infer_datetime_format=True)\n",
    "groups = df.groupby(['Call Number'])\n",
    "hospital = groups.min()"
   ]
  },
  {
   "cell_type": "code",
   "execution_count": 131,
   "metadata": {},
   "outputs": [],
   "source": [
    "dataset_path = \"/home/blakemoss/911_modeling/data_retrieval/csvs/sf_fire_2019.csv\"\n",
    "df = dd.read_csv(dataset_path, usecols=['Call Number', 'Available DtTm'], dtype=dtype)\n",
    "df = df.dropna(subset=['Available DtTm'])\n",
    "df = df.compute()\n",
    "c = \"Available DtTm\"\n",
    "df[c] = pd.to_datetime(df[c], errors=\"coerce\", infer_datetime_format=True)\n",
    "groups = df.groupby(['Call Number'])\n",
    "available = groups.min()"
   ]
  },
  {
   "cell_type": "code",
   "execution_count": 134,
   "metadata": {},
   "outputs": [],
   "source": [
    "from functools import reduce\n",
    "dfs = [rec, entry, dispatch, response, on_scene, transport, hospital, available]\n",
    "first_unit_sf_fire = reduce(lambda x,y: pd.merge(x,y, on='Call Number', how='outer'), dfs)\n",
    "\n"
   ]
  },
  {
   "cell_type": "code",
   "execution_count": 136,
   "metadata": {},
   "outputs": [],
   "source": [
    "first_unit_sf_fire.to_csv(\"first_unit_sf_fire_2019.csv\")"
   ]
  },
  {
   "cell_type": "code",
   "execution_count": null,
   "metadata": {},
   "outputs": [],
   "source": []
  }
 ],
 "metadata": {
  "kernelspec": {
   "display_name": "Python 3",
   "language": "python",
   "name": "python3"
  },
  "language_info": {
   "codemirror_mode": {
    "name": "ipython",
    "version": 3
   },
   "file_extension": ".py",
   "mimetype": "text/x-python",
   "name": "python",
   "nbconvert_exporter": "python",
   "pygments_lexer": "ipython3",
   "version": "3.6.9"
  }
 },
 "nbformat": 4,
 "nbformat_minor": 4
}
