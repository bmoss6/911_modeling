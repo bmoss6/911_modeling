{
 "cells": [
  {
   "cell_type": "code",
   "execution_count": 1,
   "metadata": {},
   "outputs": [],
   "source": [
    "import dask.dataframe as dd\n",
    "import pandas as pd\n",
    "import os\n",
    "import csv\n",
    "import traceback\n",
    "import logging\n",
    "import numpy as np\n",
    "import geopandas as gp\n",
    "import scipy.stats as st\n",
    "import matplotlib.pyplot as plt\n",
    "dataset_path = \"/home/blakemoss/911_modeling/data_retrieval/csvs/sf_fire_2019.csv\"\n",
    "df = dd.read_csv(dataset_path, usecols=['Call Number', 'Received DtTm'])\n",
    "df = df.dropna(subset=['Received DtTm'])\n",
    "df = df.compute()\n",
    "c = \"Received DtTm\"\n",
    "df[c] = pd.to_datetime(df[c], errors=\"coerce\", infer_datetime_format=True)\n",
    "groups = df.groupby(['Call Number'])\n",
    "rec = groups.min()"
   ]
  },
  {
   "cell_type": "code",
   "execution_count": 2,
   "metadata": {},
   "outputs": [],
   "source": [
    "dataset_path = \"/home/blakemoss/911_modeling/data_retrieval/csvs/sf_fire_2019.csv\"\n",
    "df = dd.read_csv(dataset_path, usecols=['Call Number', 'Entry DtTm'])\n",
    "df = df.dropna(subset=['Entry DtTm'])\n",
    "df = df.compute()\n",
    "c = \"Entry DtTm\"\n",
    "df[c] = pd.to_datetime(df[c], errors=\"coerce\", infer_datetime_format=True)\n",
    "groups = df.groupby(['Call Number'])\n",
    "entry = groups.min()"
   ]
  },
  {
   "cell_type": "code",
   "execution_count": 3,
   "metadata": {},
   "outputs": [],
   "source": [
    "dataset_path = \"/home/blakemoss/911_modeling/data_retrieval/csvs/sf_fire_2019.csv\"\n",
    "df = dd.read_csv(dataset_path, usecols=['Call Number', 'Dispatch DtTm'])\n",
    "df = df.dropna(subset=['Dispatch DtTm'])\n",
    "df = df.compute()\n",
    "c = \"Dispatch DtTm\"\n",
    "df[c] = pd.to_datetime(df[c], errors=\"coerce\", infer_datetime_format=True)\n",
    "groups = df.groupby(['Call Number'])\n",
    "dispatch = groups.min()"
   ]
  },
  {
   "cell_type": "code",
   "execution_count": 4,
   "metadata": {},
   "outputs": [],
   "source": [
    "dataset_path = \"/home/blakemoss/911_modeling/data_retrieval/csvs/sf_fire_2019.csv\"\n",
    "df = dd.read_csv(dataset_path, usecols=['Call Number', 'Response DtTm'])\n",
    "df = df.dropna(subset=['Response DtTm'])\n",
    "df = df.compute()\n",
    "c = \"Response DtTm\"\n",
    "df[c] = pd.to_datetime(df[c], errors=\"coerce\", infer_datetime_format=True)\n",
    "groups = df.groupby(['Call Number'])\n",
    "response = groups.min()"
   ]
  },
  {
   "cell_type": "code",
   "execution_count": 5,
   "metadata": {},
   "outputs": [],
   "source": [
    "dataset_path = \"/home/blakemoss/911_modeling/data_retrieval/csvs/sf_fire_2019.csv\"\n",
    "df = dd.read_csv(dataset_path, usecols=['Call Number', 'On Scene DtTm'])\n",
    "df = df.dropna(subset=['On Scene DtTm'])\n",
    "df = df.compute()\n",
    "c = \"On Scene DtTm\"\n",
    "df[c] = pd.to_datetime(df[c], errors=\"coerce\", infer_datetime_format=True)\n",
    "groups = df.groupby(['Call Number'])\n",
    "on_scene = groups.min()"
   ]
  },
  {
   "cell_type": "code",
   "execution_count": 6,
   "metadata": {},
   "outputs": [],
   "source": [
    "dataset_path = \"/home/blakemoss/911_modeling/data_retrieval/csvs/sf_fire_2019.csv\"\n",
    "df = dd.read_csv(dataset_path, usecols=['Call Number', 'Transport DtTm'])\n",
    "df = df.dropna(subset=['Transport DtTm'])\n",
    "df = df.compute()\n",
    "c = \"Transport DtTm\"\n",
    "df[c] = pd.to_datetime(df[c], errors=\"coerce\", infer_datetime_format=True)\n",
    "groups = df.groupby(['Call Number'])\n",
    "transport = groups.min()"
   ]
  },
  {
   "cell_type": "code",
   "execution_count": 7,
   "metadata": {},
   "outputs": [],
   "source": [
    "dataset_path = \"/home/blakemoss/911_modeling/data_retrieval/csvs/sf_fire_2019.csv\"\n",
    "df = dd.read_csv(dataset_path, usecols=['Call Number', 'Hospital DtTm'])\n",
    "df = df.dropna(subset=['Hospital DtTm'])\n",
    "df = df.compute()\n",
    "c = \"Hospital DtTm\"\n",
    "df[c] = pd.to_datetime(df[c], errors=\"coerce\", infer_datetime_format=True)\n",
    "groups = df.groupby(['Call Number'])\n",
    "hospital = groups.min()"
   ]
  },
  {
   "cell_type": "code",
   "execution_count": 8,
   "metadata": {},
   "outputs": [],
   "source": [
    "dataset_path = \"/home/blakemoss/911_modeling/data_retrieval/csvs/sf_fire_2019.csv\"\n",
    "df = dd.read_csv(dataset_path, usecols=['Call Number', 'Available DtTm'])\n",
    "df = df.dropna(subset=['Available DtTm'])\n",
    "df = df.compute()\n",
    "c = \"Available DtTm\"\n",
    "df[c] = pd.to_datetime(df[c], errors=\"coerce\", infer_datetime_format=True)\n",
    "groups = df.groupby(['Call Number'])\n",
    "available = groups.max()"
   ]
  },
  {
   "cell_type": "code",
   "execution_count": 9,
   "metadata": {},
   "outputs": [],
   "source": [
    "dataset_path = \"/home/blakemoss/911_modeling/data_retrieval/csvs/sf_fire_2019.csv\"\n",
    "df = dd.read_csv(dataset_path, usecols=['Call Number', 'Number of Alarms', 'Call Type'])\n",
    "df = df.dropna(subset=['Number of Alarms', 'Call Type'])\n",
    "df = df.compute()\n",
    "call_types = df.drop_duplicates(subset=['Call Number'])"
   ]
  },
  {
   "cell_type": "code",
   "execution_count": 10,
   "metadata": {},
   "outputs": [
    {
     "data": {
      "text/html": [
       "<div>\n",
       "<style scoped>\n",
       "    .dataframe tbody tr th:only-of-type {\n",
       "        vertical-align: middle;\n",
       "    }\n",
       "\n",
       "    .dataframe tbody tr th {\n",
       "        vertical-align: top;\n",
       "    }\n",
       "\n",
       "    .dataframe thead th {\n",
       "        text-align: right;\n",
       "    }\n",
       "</style>\n",
       "<table border=\"1\" class=\"dataframe\">\n",
       "  <thead>\n",
       "    <tr style=\"text-align: right;\">\n",
       "      <th></th>\n",
       "      <th>Call Number</th>\n",
       "      <th>Call Type</th>\n",
       "      <th>Number of Alarms</th>\n",
       "    </tr>\n",
       "  </thead>\n",
       "  <tbody>\n",
       "    <tr>\n",
       "      <th>0</th>\n",
       "      <td>190010008</td>\n",
       "      <td>Medical Incident</td>\n",
       "      <td>1</td>\n",
       "    </tr>\n",
       "    <tr>\n",
       "      <th>1</th>\n",
       "      <td>190010037</td>\n",
       "      <td>Medical Incident</td>\n",
       "      <td>1</td>\n",
       "    </tr>\n",
       "    <tr>\n",
       "      <th>3</th>\n",
       "      <td>190010032</td>\n",
       "      <td>Medical Incident</td>\n",
       "      <td>1</td>\n",
       "    </tr>\n",
       "    <tr>\n",
       "      <th>4</th>\n",
       "      <td>190010044</td>\n",
       "      <td>Medical Incident</td>\n",
       "      <td>1</td>\n",
       "    </tr>\n",
       "    <tr>\n",
       "      <th>7</th>\n",
       "      <td>190010051</td>\n",
       "      <td>Medical Incident</td>\n",
       "      <td>1</td>\n",
       "    </tr>\n",
       "    <tr>\n",
       "      <th>...</th>\n",
       "      <td>...</td>\n",
       "      <td>...</td>\n",
       "      <td>...</td>\n",
       "    </tr>\n",
       "    <tr>\n",
       "      <th>157492</th>\n",
       "      <td>193654033</td>\n",
       "      <td>Medical Incident</td>\n",
       "      <td>1</td>\n",
       "    </tr>\n",
       "    <tr>\n",
       "      <th>157495</th>\n",
       "      <td>193654030</td>\n",
       "      <td>Medical Incident</td>\n",
       "      <td>1</td>\n",
       "    </tr>\n",
       "    <tr>\n",
       "      <th>157497</th>\n",
       "      <td>193654042</td>\n",
       "      <td>Medical Incident</td>\n",
       "      <td>1</td>\n",
       "    </tr>\n",
       "    <tr>\n",
       "      <th>157498</th>\n",
       "      <td>193654061</td>\n",
       "      <td>Medical Incident</td>\n",
       "      <td>1</td>\n",
       "    </tr>\n",
       "    <tr>\n",
       "      <th>157500</th>\n",
       "      <td>193654076</td>\n",
       "      <td>Medical Incident</td>\n",
       "      <td>1</td>\n",
       "    </tr>\n",
       "  </tbody>\n",
       "</table>\n",
       "<p>153194 rows × 3 columns</p>\n",
       "</div>"
      ],
      "text/plain": [
       "        Call Number         Call Type  Number of Alarms\n",
       "0         190010008  Medical Incident                 1\n",
       "1         190010037  Medical Incident                 1\n",
       "3         190010032  Medical Incident                 1\n",
       "4         190010044  Medical Incident                 1\n",
       "7         190010051  Medical Incident                 1\n",
       "...             ...               ...               ...\n",
       "157492    193654033  Medical Incident                 1\n",
       "157495    193654030  Medical Incident                 1\n",
       "157497    193654042  Medical Incident                 1\n",
       "157498    193654061  Medical Incident                 1\n",
       "157500    193654076  Medical Incident                 1\n",
       "\n",
       "[153194 rows x 3 columns]"
      ]
     },
     "execution_count": 10,
     "metadata": {},
     "output_type": "execute_result"
    }
   ],
   "source": [
    "call_types"
   ]
  },
  {
   "cell_type": "code",
   "execution_count": 11,
   "metadata": {},
   "outputs": [],
   "source": [
    "from functools import reduce\n",
    "dfs = [rec, entry, dispatch, response, on_scene, transport, hospital, available, call_types]\n",
    "first_unit_sf_fire = reduce(lambda x,y: pd.merge(x,y, on='Call Number', how='outer'), dfs)\n",
    "\n"
   ]
  },
  {
   "cell_type": "code",
   "execution_count": 12,
   "metadata": {},
   "outputs": [],
   "source": [
    "first_unit_sf_fire.to_csv(\"first_unit_priority_sf_fire_2019.csv\")"
   ]
  },
  {
   "cell_type": "code",
   "execution_count": null,
   "metadata": {},
   "outputs": [],
   "source": []
  }
 ],
 "metadata": {
  "kernelspec": {
   "display_name": "Python 3",
   "language": "python",
   "name": "python3"
  },
  "language_info": {
   "codemirror_mode": {
    "name": "ipython",
    "version": 3
   },
   "file_extension": ".py",
   "mimetype": "text/x-python",
   "name": "python",
   "nbconvert_exporter": "python",
   "pygments_lexer": "ipython3",
   "version": "3.6.9"
  }
 },
 "nbformat": 4,
 "nbformat_minor": 4
}
