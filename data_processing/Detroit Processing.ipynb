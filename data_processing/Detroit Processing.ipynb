{
 "cells": [
  {
   "cell_type": "code",
   "execution_count": 2,
   "metadata": {},
   "outputs": [],
   "source": [
    "import dask.dataframe as dd\n",
    "import pandas as pd\n",
    "import os\n",
    "import csv\n",
    "import traceback\n",
    "import logging\n",
    "import numpy as np\n",
    "import geopandas as gp\n",
    "import scipy.stats as st\n",
    "import matplotlib.pyplot as plt\n",
    "dataset_path = \"/home/blakemoss/911_modeling/data_retrieval/detroit_pd_2019.csv\"\n",
    "dtype={'dispatchtime': 'object',\n",
    "       'intaketime': 'object',\n",
    "       'priority': 'object',\n",
    "       'time_on_scene': 'object',\n",
    "       'totalresponsetime': 'object',\n",
    "       'totaltime': 'object'}\n",
    "c = \"call_timestamp\"\n",
    "df = dd.read_csv(dataset_path, dtype=dtype)"
   ]
  },
  {
   "cell_type": "code",
   "execution_count": 183,
   "metadata": {},
   "outputs": [],
   "source": [
    "# df['dispatchtime'] = df['dispatchtime'].map(lambda x: str(x))\n",
    "# df['intaketime'] = df['intaketime'].map(lambda x: str(x))\n",
    "# df['time_on_scene'] = df['time_on_scene'].map(lambda x: str(x))\n",
    "# df['dispatchtime'] = df['dispatchtime'].map(lambda x: x.replace(\",\",\"\"))\n",
    "# df['intaketime'] = df['intaketime'].map(lambda x: x.replace(\",\",\"\"))\n",
    "# df['time_on_scene'] = df['time_on_scene'].map(lambda x: x.replace(\",\",\"\"))\n",
    "# df['dispatchtime'] = df['dispatchtime'].map(lambda x: x.replace(\",\",\"\"))\n",
    "# df['intaketime'] = df['intaketime'].map(lambda x: x.replace(\",\",\"\"))\n",
    "# df['time_on_scene'] = df['time_on_scene'].map(lambda x: x.replace(\",\",\"\"))"
   ]
  },
  {
   "cell_type": "code",
   "execution_count": 184,
   "metadata": {},
   "outputs": [],
   "source": [
    "# df = df.compute()\n",
    "# df = df[df['officerinitiated']=='No']\n",
    "# df['dispatchtime'] = pd.to_numeric(df['dispatchtime'], errors='coerce')\n",
    "# df['intaketime'] = pd.to_numeric(df['intaketime'], errors='coerce')\n",
    "# df['time_on_scene'] = pd.to_numeric(df['time_on_scene'],errors='coerce')\n",
    "# df = df[df['dispatchtime']>=0] ## Consider negative dispatch times as an error\n",
    "# df[\"call_timestamp\"] = dd.to_datetime(df[\"call_timestamp\"], errors=\"coerce\", infer_datetime_format=True)\n",
    "# df['dispatchtime'] = pd.to_timedelta(df['dispatchtime'], errors='coerce', unit='m')\n",
    "# df['intaketime'] = pd.to_timedelta(df['intaketime'], errors='coerce', unit='m')\n",
    "# df['time_on_scene'] = pd.to_timedelta(df['time_on_scene'],errors='coerce', unit='m')\n",
    "# df['traveltime'] = pd.to_timedelta(df['traveltime'],errors='coerce', unit='m')\n",
    "# df['intake_done_ts'] = pd.to_datetime(df['intaketime'] + df[\"call_timestamp\"])\n",
    "# df['dispatch_complete_ts'] = pd.to_datetime(df['intake_done_ts'] + df['dispatchtime'])\n",
    "# df['travel_ended'] = pd.to_datetime(df['dispatch_complete_ts'] + df['traveltime'])\n",
    "# df['on_scene_done'] = pd.to_datetime(df['travel_ended'] + df['time_on_scene'])"
   ]
  },
  {
   "cell_type": "code",
   "execution_count": 3,
   "metadata": {},
   "outputs": [
    {
     "data": {
      "text/plain": [
       "Index(['X', 'Y', 'incident_id', 'agency', 'incident_address', 'zip_code',\n",
       "       'priority', 'callcode', 'calldescription', 'category', 'call_timestamp',\n",
       "       'precinct_sca', 'respondingunit', 'officerinitiated', 'intaketime',\n",
       "       'dispatchtime', 'traveltime', 'totalresponsetime', 'time_on_scene',\n",
       "       'totaltime', 'neighborhood', 'block_id', 'council_district',\n",
       "       'longitude', 'latitude', 'oid'],\n",
       "      dtype='object')"
      ]
     },
     "execution_count": 3,
     "metadata": {},
     "output_type": "execute_result"
    }
   ],
   "source": [
    "df.columns"
   ]
  },
  {
   "cell_type": "code",
   "execution_count": 6,
   "metadata": {},
   "outputs": [],
   "source": [
    "df = df.compute()"
   ]
  },
  {
   "cell_type": "code",
   "execution_count": 8,
   "metadata": {},
   "outputs": [
    {
     "data": {
      "text/plain": [
       "'2019-06-07T01:33:05.000Z'"
      ]
     },
     "execution_count": 8,
     "metadata": {},
     "output_type": "execute_result"
    }
   ],
   "source": [
    "df['call_timestamp'].max()"
   ]
  },
  {
   "cell_type": "code",
   "execution_count": null,
   "metadata": {},
   "outputs": [],
   "source": []
  }
 ],
 "metadata": {
  "kernelspec": {
   "display_name": "Python 3",
   "language": "python",
   "name": "python3"
  },
  "language_info": {
   "codemirror_mode": {
    "name": "ipython",
    "version": 3
   },
   "file_extension": ".py",
   "mimetype": "text/x-python",
   "name": "python",
   "nbconvert_exporter": "python",
   "pygments_lexer": "ipython3",
   "version": "3.6.9"
  }
 },
 "nbformat": 4,
 "nbformat_minor": 4
}
